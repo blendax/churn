{
 "cells": [
  {
   "cell_type": "markdown",
   "metadata": {},
   "source": [
    "## Churn Prediction using AMLWorkbench\n",
    "\n",
    "This notebook will introduce the use of the churn dataset to create churn prediction models. The dataset used to ingest is from SIDKDD 2009 competition. The dataset consists of heterogeneous noisy data (numerical/categorical variables) from French Telecom company Orange and is anonymized.\n",
    "\n",
    "We will use the .dprep file created from the datasource wizard."
   ]
  },
  {
   "cell_type": "code",
   "execution_count": 11,
   "metadata": {
    "collapsed": true
   },
   "outputs": [],
   "source": [
    "import dataprep\n",
    "from dataprep.Package import Package\n",
    "import pickle\n",
    "\n",
    "from sklearn.naive_bayes import GaussianNB\n",
    "from sklearn.tree import DecisionTreeClassifier, export_graphviz\n",
    "import pandas as pd\n",
    "import numpy as np\n",
    "import csv\n",
    "from sklearn.metrics import accuracy_score\n",
    "from sklearn.cross_validation import train_test_split\n",
    "from sklearn.preprocessing import LabelEncoder"
   ]
  },
  {
   "cell_type": "markdown",
   "metadata": {
    "collapsed": true
   },
   "source": [
    "## Read Data\n",
    "\n",
    "We first retrieve the data as a data frame using .dprep that we created using the datasource wizard. Print the top few lines using head()"
   ]
  },
  {
   "cell_type": "code",
   "execution_count": 4,
   "metadata": {},
   "outputs": [
    {
     "data": {
      "text/html": [
       "<div>\n",
       "<table border=\"1\" class=\"dataframe\">\n",
       "  <thead>\n",
       "    <tr style=\"text-align: right;\">\n",
       "      <th></th>\n",
       "      <th>age</th>\n",
       "      <th>annualincome</th>\n",
       "      <th>calldroprate</th>\n",
       "      <th>callfailurerate</th>\n",
       "      <th>callingnum</th>\n",
       "      <th>customerid</th>\n",
       "      <th>customersuspended</th>\n",
       "      <th>education</th>\n",
       "      <th>gender</th>\n",
       "      <th>homeowner</th>\n",
       "      <th>...</th>\n",
       "      <th>penaltytoswitch</th>\n",
       "      <th>state</th>\n",
       "      <th>totalminsusedinlastmonth</th>\n",
       "      <th>unpaidbalance</th>\n",
       "      <th>usesinternetservice</th>\n",
       "      <th>usesvoiceservice</th>\n",
       "      <th>percentagecalloutsidenetwork</th>\n",
       "      <th>totalcallduration</th>\n",
       "      <th>avgcallduration</th>\n",
       "      <th>churn</th>\n",
       "    </tr>\n",
       "  </thead>\n",
       "  <tbody>\n",
       "    <tr>\n",
       "      <th>0</th>\n",
       "      <td>12.0</td>\n",
       "      <td>168147.0</td>\n",
       "      <td>0.06</td>\n",
       "      <td>0.00</td>\n",
       "      <td>4.251078e+09</td>\n",
       "      <td>1.0</td>\n",
       "      <td>Yes</td>\n",
       "      <td>Bachelor or equivalent</td>\n",
       "      <td>Male</td>\n",
       "      <td>Yes</td>\n",
       "      <td>...</td>\n",
       "      <td>371.0</td>\n",
       "      <td>WA</td>\n",
       "      <td>15.0</td>\n",
       "      <td>19.0</td>\n",
       "      <td>No</td>\n",
       "      <td>No</td>\n",
       "      <td>0.82</td>\n",
       "      <td>5971.0</td>\n",
       "      <td>663.0</td>\n",
       "      <td>0.0</td>\n",
       "    </tr>\n",
       "    <tr>\n",
       "      <th>1</th>\n",
       "      <td>12.0</td>\n",
       "      <td>168147.0</td>\n",
       "      <td>0.06</td>\n",
       "      <td>0.00</td>\n",
       "      <td>4.251078e+09</td>\n",
       "      <td>1.0</td>\n",
       "      <td>Yes</td>\n",
       "      <td>Bachelor or equivalent</td>\n",
       "      <td>Male</td>\n",
       "      <td>Yes</td>\n",
       "      <td>...</td>\n",
       "      <td>371.0</td>\n",
       "      <td>WA</td>\n",
       "      <td>15.0</td>\n",
       "      <td>19.0</td>\n",
       "      <td>No</td>\n",
       "      <td>No</td>\n",
       "      <td>0.82</td>\n",
       "      <td>3981.0</td>\n",
       "      <td>995.0</td>\n",
       "      <td>0.0</td>\n",
       "    </tr>\n",
       "    <tr>\n",
       "      <th>2</th>\n",
       "      <td>42.0</td>\n",
       "      <td>29047.0</td>\n",
       "      <td>0.05</td>\n",
       "      <td>0.01</td>\n",
       "      <td>4.251043e+09</td>\n",
       "      <td>2.0</td>\n",
       "      <td>Yes</td>\n",
       "      <td>Bachelor or equivalent</td>\n",
       "      <td>Female</td>\n",
       "      <td>Yes</td>\n",
       "      <td>...</td>\n",
       "      <td>43.0</td>\n",
       "      <td>WI</td>\n",
       "      <td>212.0</td>\n",
       "      <td>34.0</td>\n",
       "      <td>No</td>\n",
       "      <td>Yes</td>\n",
       "      <td>0.27</td>\n",
       "      <td>7379.0</td>\n",
       "      <td>737.0</td>\n",
       "      <td>0.0</td>\n",
       "    </tr>\n",
       "    <tr>\n",
       "      <th>3</th>\n",
       "      <td>42.0</td>\n",
       "      <td>29047.0</td>\n",
       "      <td>0.05</td>\n",
       "      <td>0.01</td>\n",
       "      <td>4.251043e+09</td>\n",
       "      <td>2.0</td>\n",
       "      <td>Yes</td>\n",
       "      <td>Bachelor or equivalent</td>\n",
       "      <td>Female</td>\n",
       "      <td>Yes</td>\n",
       "      <td>...</td>\n",
       "      <td>43.0</td>\n",
       "      <td>WI</td>\n",
       "      <td>212.0</td>\n",
       "      <td>34.0</td>\n",
       "      <td>No</td>\n",
       "      <td>Yes</td>\n",
       "      <td>0.27</td>\n",
       "      <td>1729.0</td>\n",
       "      <td>432.0</td>\n",
       "      <td>0.0</td>\n",
       "    </tr>\n",
       "    <tr>\n",
       "      <th>4</th>\n",
       "      <td>58.0</td>\n",
       "      <td>27076.0</td>\n",
       "      <td>0.07</td>\n",
       "      <td>0.02</td>\n",
       "      <td>4.251056e+09</td>\n",
       "      <td>3.0</td>\n",
       "      <td>Yes</td>\n",
       "      <td>Master or equivalent</td>\n",
       "      <td>Female</td>\n",
       "      <td>Yes</td>\n",
       "      <td>...</td>\n",
       "      <td>403.0</td>\n",
       "      <td>KS</td>\n",
       "      <td>216.0</td>\n",
       "      <td>144.0</td>\n",
       "      <td>No</td>\n",
       "      <td>No</td>\n",
       "      <td>0.48</td>\n",
       "      <td>3122.0</td>\n",
       "      <td>624.0</td>\n",
       "      <td>0.0</td>\n",
       "    </tr>\n",
       "  </tbody>\n",
       "</table>\n",
       "<p>5 rows × 27 columns</p>\n",
       "</div>"
      ],
      "text/plain": [
       "    age  annualincome  calldroprate  callfailurerate    callingnum  \\\n",
       "0  12.0      168147.0          0.06             0.00  4.251078e+09   \n",
       "1  12.0      168147.0          0.06             0.00  4.251078e+09   \n",
       "2  42.0       29047.0          0.05             0.01  4.251043e+09   \n",
       "3  42.0       29047.0          0.05             0.01  4.251043e+09   \n",
       "4  58.0       27076.0          0.07             0.02  4.251056e+09   \n",
       "\n",
       "   customerid customersuspended               education  gender homeowner  \\\n",
       "0         1.0               Yes  Bachelor or equivalent    Male       Yes   \n",
       "1         1.0               Yes  Bachelor or equivalent    Male       Yes   \n",
       "2         2.0               Yes  Bachelor or equivalent  Female       Yes   \n",
       "3         2.0               Yes  Bachelor or equivalent  Female       Yes   \n",
       "4         3.0               Yes    Master or equivalent  Female       Yes   \n",
       "\n",
       "   ...   penaltytoswitch  state totalminsusedinlastmonth  unpaidbalance  \\\n",
       "0  ...             371.0     WA                     15.0           19.0   \n",
       "1  ...             371.0     WA                     15.0           19.0   \n",
       "2  ...              43.0     WI                    212.0           34.0   \n",
       "3  ...              43.0     WI                    212.0           34.0   \n",
       "4  ...             403.0     KS                    216.0          144.0   \n",
       "\n",
       "   usesinternetservice  usesvoiceservice percentagecalloutsidenetwork  \\\n",
       "0                   No                No                         0.82   \n",
       "1                   No                No                         0.82   \n",
       "2                   No               Yes                         0.27   \n",
       "3                   No               Yes                         0.27   \n",
       "4                   No                No                         0.48   \n",
       "\n",
       "   totalcallduration avgcallduration  churn  \n",
       "0             5971.0           663.0    0.0  \n",
       "1             3981.0           995.0    0.0  \n",
       "2             7379.0           737.0    0.0  \n",
       "3             1729.0           432.0    0.0  \n",
       "4             3122.0           624.0    0.0  \n",
       "\n",
       "[5 rows x 27 columns]"
      ]
     },
     "execution_count": 4,
     "metadata": {},
     "output_type": "execute_result"
    }
   ],
   "source": [
    "with Package.open_package('CATelcoCustomerChurnTrainingSample.dprep') as pkg:\n",
    "    df = pkg.dataflows[0].get_dataframe()\n",
    "\n",
    "df.head()"
   ]
  },
  {
   "cell_type": "markdown",
   "metadata": {
    "collapsed": true
   },
   "source": [
    "## Encode Columns\n",
    "\n",
    "Convert categorical variable into dummy/indicator variables using pandas.get_dummies. In addition, we will need to change the column names to ensure there are no multiple columns with the same name "
   ]
  },
  {
   "cell_type": "code",
   "execution_count": 5,
   "metadata": {},
   "outputs": [
    {
     "name": "stdout",
     "output_type": "stream",
     "text": [
      "['customersuspended', 'education', 'gender', 'homeowner', 'maritalstatus', 'noadditionallines', 'occupation', 'state', 'usesinternetservice', 'usesvoiceservice']\n",
      "Encoded columns:\n",
      "Index(['age', 'annualincome', 'calldroprate', 'callfailurerate', 'callingnum',\n",
      "       'customerid', 'monthlybilledamount', 'numberofcomplaints',\n",
      "       'numberofmonthunpaid', 'numdayscontractequipmentplanexpiring',\n",
      "       'penaltytoswitch', 'totalminsusedinlastmonth', 'unpaidbalance',\n",
      "       'percentagecalloutsidenetwork', 'totalcallduration', 'avgcallduration',\n",
      "       'churn', 'customersuspended_No', 'customersuspended_Yes',\n",
      "       'education_Bachelor or equivalent', 'education_High School or below',\n",
      "       'education_Master or equivalent', 'education_PhD or equivalent',\n",
      "       'gender_Female', 'gender_Male', 'homeowner_No', 'homeowner_Yes',\n",
      "       'maritalstatus_Married', 'maritalstatus_Single', 'noadditionallines_\\N',\n",
      "       'occupation_Non-technology Related Job', 'occupation_Others',\n",
      "       'occupation_Technology Related Job', 'state_AK', 'state_AL', 'state_AR',\n",
      "       'state_AZ', 'state_CA', 'state_CO', 'state_CT', 'state_DE', 'state_FL',\n",
      "       'state_GA', 'state_HI', 'state_IA', 'state_ID', 'state_IL', 'state_IN',\n",
      "       'state_KS', 'state_KY', 'state_LA', 'state_MA', 'state_MD', 'state_ME',\n",
      "       'state_MI', 'state_MN', 'state_MO', 'state_MS', 'state_MT', 'state_NC',\n",
      "       'state_ND', 'state_NE', 'state_NH', 'state_NJ', 'state_NM', 'state_NV',\n",
      "       'state_NY', 'state_OH', 'state_OK', 'state_OR', 'state_PA', 'state_RI',\n",
      "       'state_SC', 'state_SD', 'state_TN', 'state_TX', 'state_UT', 'state_VA',\n",
      "       'state_VT', 'state_WA', 'state_WI', 'state_WV', 'state_WY',\n",
      "       'usesinternetservice_No', 'usesinternetservice_Yes',\n",
      "       'usesvoiceservice_No', 'usesvoiceservice_Yes'],\n",
      "      dtype='object')\n"
     ]
    }
   ],
   "source": [
    "columns_to_encode = list(df.select_dtypes(include=['category','object']))\n",
    "print(columns_to_encode)\n",
    "for column_to_encode in columns_to_encode:\n",
    "    dummies = pd.get_dummies(df[column_to_encode])\n",
    "    one_hot_col_names = []\n",
    "    for col_name in list(dummies.columns):\n",
    "        one_hot_col_names.append(column_to_encode + '_' + col_name)\n",
    "    dummies.columns = one_hot_col_names\n",
    "    df = df.drop(column_to_encode, axis=1)\n",
    "    df = df.join(dummies)\n",
    "\n",
    "print(\"Encoded columns:\")\n",
    "print(df.columns)"
   ]
  },
  {
   "cell_type": "markdown",
   "metadata": {},
   "source": [
    "## Modeling\n",
    "\n",
    "First, we will build a Gaussian Naive Bayes model using GaussianNB for churn classification. Naive Bayes methods are a set of supervised learning algorithms based on applying Bayes theorem with the “naive” assumption of independence between every pair of features.\n",
    "\n",
    "In addition, we will also build a decision tree classifier for comparison:\n",
    "\n",
    "- min_samples_split=20 requires 20 samples in a node for it to be split\n",
    "- random_state=99 to seed the random number generator"
   ]
  },
  {
   "cell_type": "code",
   "execution_count": 6,
   "metadata": {},
   "outputs": [
    {
     "name": "stdout",
     "output_type": "stream",
     "text": [
      "Naive Bayes Classification Accuracy 0.892666666667\n"
     ]
    }
   ],
   "source": [
    "model = GaussianNB()\n",
    "\n",
    "train, test = train_test_split(df, test_size = 0.3)\n",
    "\n",
    "target = train['churn'].values\n",
    "train = train.drop('churn', 1)\n",
    "train = train.values\n",
    "model.fit(train, target)\n",
    "\n",
    "expected = test['churn'].values\n",
    "test = test.drop('churn', 1)\n",
    "predicted = model.predict(test)\n",
    "print(\"Naive Bayes Classification Accuracy\", accuracy_score(expected, predicted))"
   ]
  },
  {
   "cell_type": "code",
   "execution_count": 7,
   "metadata": {},
   "outputs": [
    {
     "name": "stdout",
     "output_type": "stream",
     "text": [
      "Decision Tree Classification Accuracy 0.914333333333\n"
     ]
    }
   ],
   "source": [
    "dt = DecisionTreeClassifier(min_samples_split=20, random_state=99)\n",
    "dt.fit(train, target)\n",
    "predicted = dt.predict(test)\n",
    "print(\"Decision Tree Classification Accuracy\", accuracy_score(expected, predicted))"
   ]
  }
 ],
 "metadata": {
  "kernelspec": {
   "display_name": "ChurnPrediction local",
   "language": "python",
   "name": "churnprediction_local"
  },
  "language_info": {
   "codemirror_mode": {
    "name": "ipython",
    "version": 3
   },
   "file_extension": ".py",
   "mimetype": "text/x-python",
   "name": "python",
   "nbconvert_exporter": "python",
   "pygments_lexer": "ipython3",
   "version": "3.5.2"
  }
 },
 "nbformat": 4,
 "nbformat_minor": 2
}
